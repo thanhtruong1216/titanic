{
 "cells": [
  {
   "cell_type": "markdown",
   "metadata": {},
   "source": [
    "# Question:\n",
    "- What factors effect survivability the most?\n",
    "    - Gender?\n",
    "    - Age?\n",
    "    - Class?"
   ]
  },
  {
   "cell_type": "code",
   "execution_count": 278,
   "metadata": {
    "collapsed": true
   },
   "outputs": [],
   "source": [
    "# Imports for pandas, and numpy\n",
    "import numpy as np\n",
    "import pandas as pd\n",
    "\n",
    "# imports for seaborn to and matplotlib to allow graphing\n",
    "import seaborn as sns\n",
    "import matplotlib.pyplot as plt\n",
    "get_ipython().magic(u'matplotlib inline')\n",
    "%matplotlib inline\n",
    "\n",
    "# Import function display to print out data\n",
    "from IPython.display import display"
   ]
  },
  {
   "cell_type": "code",
   "execution_count": 280,
   "metadata": {
    "collapsed": true
   },
   "outputs": [],
   "source": [
    "# import Titanic data CSV \n",
    "titanic_reader = pd.read_csv('titanic_data.csv')"
   ]
  },
  {
   "cell_type": "code",
   "execution_count": 281,
   "metadata": {},
   "outputs": [
    {
     "data": {
      "text/html": [
       "<div>\n",
       "<style>\n",
       "    .dataframe thead tr:only-child th {\n",
       "        text-align: right;\n",
       "    }\n",
       "\n",
       "    .dataframe thead th {\n",
       "        text-align: left;\n",
       "    }\n",
       "\n",
       "    .dataframe tbody tr th {\n",
       "        vertical-align: top;\n",
       "    }\n",
       "</style>\n",
       "<table border=\"1\" class=\"dataframe\">\n",
       "  <thead>\n",
       "    <tr style=\"text-align: right;\">\n",
       "      <th></th>\n",
       "      <th>Survived</th>\n",
       "      <th>Pclass</th>\n",
       "      <th>Sex</th>\n",
       "      <th>Age</th>\n",
       "    </tr>\n",
       "  </thead>\n",
       "  <tbody>\n",
       "    <tr>\n",
       "      <th>0</th>\n",
       "      <td>0</td>\n",
       "      <td>3</td>\n",
       "      <td>male</td>\n",
       "      <td>22.0</td>\n",
       "    </tr>\n",
       "    <tr>\n",
       "      <th>1</th>\n",
       "      <td>1</td>\n",
       "      <td>1</td>\n",
       "      <td>female</td>\n",
       "      <td>38.0</td>\n",
       "    </tr>\n",
       "    <tr>\n",
       "      <th>2</th>\n",
       "      <td>1</td>\n",
       "      <td>3</td>\n",
       "      <td>female</td>\n",
       "      <td>26.0</td>\n",
       "    </tr>\n",
       "    <tr>\n",
       "      <th>3</th>\n",
       "      <td>1</td>\n",
       "      <td>1</td>\n",
       "      <td>female</td>\n",
       "      <td>35.0</td>\n",
       "    </tr>\n",
       "    <tr>\n",
       "      <th>4</th>\n",
       "      <td>0</td>\n",
       "      <td>3</td>\n",
       "      <td>male</td>\n",
       "      <td>35.0</td>\n",
       "    </tr>\n",
       "  </tbody>\n",
       "</table>\n",
       "</div>"
      ],
      "text/plain": [
       "   Survived  Pclass     Sex   Age\n",
       "0         0       3    male  22.0\n",
       "1         1       1  female  38.0\n",
       "2         1       3  female  26.0\n",
       "3         1       1  female  35.0\n",
       "4         0       3    male  35.0"
      ]
     },
     "metadata": {},
     "output_type": "display_data"
    },
    {
     "data": {
      "text/plain": [
       "Survived      0\n",
       "Pclass        0\n",
       "Sex           0\n",
       "Age         177\n",
       "dtype: int64"
      ]
     },
     "metadata": {},
     "output_type": "display_data"
    }
   ],
   "source": [
    "# Remove unnecessary columns: Columns (PassengerId, Name, Ticket, Cabin, Fare, Embarked, SibSp, Parch) removed\n",
    "# Create new data without unnecessary columns\n",
    "titanic_data = titanic_reader.drop(['PassengerId','Name','Ticket','Cabin','Fare','Embarked', 'SibSp', 'Parch'], axis=1)\n",
    "display(titanic_data.head())\n",
    "# Calculate number of missing values\n",
    "display(titanic_data.isnull().sum())"
   ]
  },
  {
   "cell_type": "code",
   "execution_count": 282,
   "metadata": {},
   "outputs": [
    {
     "data": {
      "text/html": [
       "<div>\n",
       "<style>\n",
       "    .dataframe thead tr:only-child th {\n",
       "        text-align: right;\n",
       "    }\n",
       "\n",
       "    .dataframe thead th {\n",
       "        text-align: left;\n",
       "    }\n",
       "\n",
       "    .dataframe tbody tr th {\n",
       "        vertical-align: top;\n",
       "    }\n",
       "</style>\n",
       "<table border=\"1\" class=\"dataframe\">\n",
       "  <thead>\n",
       "    <tr style=\"text-align: right;\">\n",
       "      <th></th>\n",
       "      <th>Survived</th>\n",
       "      <th>Pclass</th>\n",
       "      <th>Age</th>\n",
       "    </tr>\n",
       "  </thead>\n",
       "  <tbody>\n",
       "    <tr>\n",
       "      <th>count</th>\n",
       "      <td>891.000000</td>\n",
       "      <td>891.000000</td>\n",
       "      <td>714.000000</td>\n",
       "    </tr>\n",
       "    <tr>\n",
       "      <th>mean</th>\n",
       "      <td>0.383838</td>\n",
       "      <td>2.308642</td>\n",
       "      <td>29.699118</td>\n",
       "    </tr>\n",
       "    <tr>\n",
       "      <th>std</th>\n",
       "      <td>0.486592</td>\n",
       "      <td>0.836071</td>\n",
       "      <td>14.526497</td>\n",
       "    </tr>\n",
       "    <tr>\n",
       "      <th>min</th>\n",
       "      <td>0.000000</td>\n",
       "      <td>1.000000</td>\n",
       "      <td>0.420000</td>\n",
       "    </tr>\n",
       "    <tr>\n",
       "      <th>25%</th>\n",
       "      <td>0.000000</td>\n",
       "      <td>2.000000</td>\n",
       "      <td>20.125000</td>\n",
       "    </tr>\n",
       "    <tr>\n",
       "      <th>50%</th>\n",
       "      <td>0.000000</td>\n",
       "      <td>3.000000</td>\n",
       "      <td>28.000000</td>\n",
       "    </tr>\n",
       "    <tr>\n",
       "      <th>75%</th>\n",
       "      <td>1.000000</td>\n",
       "      <td>3.000000</td>\n",
       "      <td>38.000000</td>\n",
       "    </tr>\n",
       "    <tr>\n",
       "      <th>max</th>\n",
       "      <td>1.000000</td>\n",
       "      <td>3.000000</td>\n",
       "      <td>80.000000</td>\n",
       "    </tr>\n",
       "  </tbody>\n",
       "</table>\n",
       "</div>"
      ],
      "text/plain": [
       "         Survived      Pclass         Age\n",
       "count  891.000000  891.000000  714.000000\n",
       "mean     0.383838    2.308642   29.699118\n",
       "std      0.486592    0.836071   14.526497\n",
       "min      0.000000    1.000000    0.420000\n",
       "25%      0.000000    2.000000   20.125000\n",
       "50%      0.000000    3.000000   28.000000\n",
       "75%      1.000000    3.000000   38.000000\n",
       "max      1.000000    3.000000   80.000000"
      ]
     },
     "metadata": {},
     "output_type": "display_data"
    }
   ],
   "source": [
    "display(titanic_data.describe())"
   ]
  },
  {
   "cell_type": "code",
   "execution_count": 283,
   "metadata": {},
   "outputs": [
    {
     "data": {
      "text/html": [
       "<div>\n",
       "<style>\n",
       "    .dataframe thead tr:only-child th {\n",
       "        text-align: right;\n",
       "    }\n",
       "\n",
       "    .dataframe thead th {\n",
       "        text-align: left;\n",
       "    }\n",
       "\n",
       "    .dataframe tbody tr th {\n",
       "        vertical-align: top;\n",
       "    }\n",
       "</style>\n",
       "<table border=\"1\" class=\"dataframe\">\n",
       "  <thead>\n",
       "    <tr style=\"text-align: right;\">\n",
       "      <th></th>\n",
       "      <th>Survived</th>\n",
       "      <th>Pclass</th>\n",
       "      <th>Age</th>\n",
       "    </tr>\n",
       "  </thead>\n",
       "  <tbody>\n",
       "    <tr>\n",
       "      <th>count</th>\n",
       "      <td>577.000000</td>\n",
       "      <td>577.000000</td>\n",
       "      <td>453.000000</td>\n",
       "    </tr>\n",
       "    <tr>\n",
       "      <th>mean</th>\n",
       "      <td>0.188908</td>\n",
       "      <td>2.389948</td>\n",
       "      <td>30.726645</td>\n",
       "    </tr>\n",
       "    <tr>\n",
       "      <th>std</th>\n",
       "      <td>0.391775</td>\n",
       "      <td>0.813580</td>\n",
       "      <td>14.678201</td>\n",
       "    </tr>\n",
       "    <tr>\n",
       "      <th>min</th>\n",
       "      <td>0.000000</td>\n",
       "      <td>1.000000</td>\n",
       "      <td>0.420000</td>\n",
       "    </tr>\n",
       "    <tr>\n",
       "      <th>25%</th>\n",
       "      <td>0.000000</td>\n",
       "      <td>2.000000</td>\n",
       "      <td>21.000000</td>\n",
       "    </tr>\n",
       "    <tr>\n",
       "      <th>50%</th>\n",
       "      <td>0.000000</td>\n",
       "      <td>3.000000</td>\n",
       "      <td>29.000000</td>\n",
       "    </tr>\n",
       "    <tr>\n",
       "      <th>75%</th>\n",
       "      <td>0.000000</td>\n",
       "      <td>3.000000</td>\n",
       "      <td>39.000000</td>\n",
       "    </tr>\n",
       "    <tr>\n",
       "      <th>max</th>\n",
       "      <td>1.000000</td>\n",
       "      <td>3.000000</td>\n",
       "      <td>80.000000</td>\n",
       "    </tr>\n",
       "  </tbody>\n",
       "</table>\n",
       "</div>"
      ],
      "text/plain": [
       "         Survived      Pclass         Age\n",
       "count  577.000000  577.000000  453.000000\n",
       "mean     0.188908    2.389948   30.726645\n",
       "std      0.391775    0.813580   14.678201\n",
       "min      0.000000    1.000000    0.420000\n",
       "25%      0.000000    2.000000   21.000000\n",
       "50%      0.000000    3.000000   29.000000\n",
       "75%      0.000000    3.000000   39.000000\n",
       "max      1.000000    3.000000   80.000000"
      ]
     },
     "metadata": {},
     "output_type": "display_data"
    }
   ],
   "source": [
    "# Calculate the number of males passenger\n",
    "display(titanic_data[titanic_data['Sex'] == 'male'].describe())"
   ]
  },
  {
   "cell_type": "code",
   "execution_count": 284,
   "metadata": {},
   "outputs": [
    {
     "data": {
      "text/html": [
       "<div>\n",
       "<style>\n",
       "    .dataframe thead tr:only-child th {\n",
       "        text-align: right;\n",
       "    }\n",
       "\n",
       "    .dataframe thead th {\n",
       "        text-align: left;\n",
       "    }\n",
       "\n",
       "    .dataframe tbody tr th {\n",
       "        vertical-align: top;\n",
       "    }\n",
       "</style>\n",
       "<table border=\"1\" class=\"dataframe\">\n",
       "  <thead>\n",
       "    <tr style=\"text-align: right;\">\n",
       "      <th></th>\n",
       "      <th>Survived</th>\n",
       "      <th>Pclass</th>\n",
       "      <th>Age</th>\n",
       "    </tr>\n",
       "  </thead>\n",
       "  <tbody>\n",
       "    <tr>\n",
       "      <th>count</th>\n",
       "      <td>314.000000</td>\n",
       "      <td>314.000000</td>\n",
       "      <td>261.000000</td>\n",
       "    </tr>\n",
       "    <tr>\n",
       "      <th>mean</th>\n",
       "      <td>0.742038</td>\n",
       "      <td>2.159236</td>\n",
       "      <td>27.915709</td>\n",
       "    </tr>\n",
       "    <tr>\n",
       "      <th>std</th>\n",
       "      <td>0.438211</td>\n",
       "      <td>0.857290</td>\n",
       "      <td>14.110146</td>\n",
       "    </tr>\n",
       "    <tr>\n",
       "      <th>min</th>\n",
       "      <td>0.000000</td>\n",
       "      <td>1.000000</td>\n",
       "      <td>0.750000</td>\n",
       "    </tr>\n",
       "    <tr>\n",
       "      <th>25%</th>\n",
       "      <td>0.000000</td>\n",
       "      <td>1.000000</td>\n",
       "      <td>18.000000</td>\n",
       "    </tr>\n",
       "    <tr>\n",
       "      <th>50%</th>\n",
       "      <td>1.000000</td>\n",
       "      <td>2.000000</td>\n",
       "      <td>27.000000</td>\n",
       "    </tr>\n",
       "    <tr>\n",
       "      <th>75%</th>\n",
       "      <td>1.000000</td>\n",
       "      <td>3.000000</td>\n",
       "      <td>37.000000</td>\n",
       "    </tr>\n",
       "    <tr>\n",
       "      <th>max</th>\n",
       "      <td>1.000000</td>\n",
       "      <td>3.000000</td>\n",
       "      <td>63.000000</td>\n",
       "    </tr>\n",
       "  </tbody>\n",
       "</table>\n",
       "</div>"
      ],
      "text/plain": [
       "         Survived      Pclass         Age\n",
       "count  314.000000  314.000000  261.000000\n",
       "mean     0.742038    2.159236   27.915709\n",
       "std      0.438211    0.857290   14.110146\n",
       "min      0.000000    1.000000    0.750000\n",
       "25%      0.000000    1.000000   18.000000\n",
       "50%      1.000000    2.000000   27.000000\n",
       "75%      1.000000    3.000000   37.000000\n",
       "max      1.000000    3.000000   63.000000"
      ]
     },
     "metadata": {},
     "output_type": "display_data"
    }
   ],
   "source": [
    "# Calculate the number of females passenger\n",
    "display(titanic_data[titanic_data['Sex'] == 'female'].describe())"
   ]
  },
  {
   "cell_type": "code",
   "execution_count": 285,
   "metadata": {},
   "outputs": [
    {
     "data": {
      "text/html": [
       "<div>\n",
       "<style>\n",
       "    .dataframe thead tr:only-child th {\n",
       "        text-align: right;\n",
       "    }\n",
       "\n",
       "    .dataframe thead th {\n",
       "        text-align: left;\n",
       "    }\n",
       "\n",
       "    .dataframe tbody tr th {\n",
       "        vertical-align: top;\n",
       "    }\n",
       "</style>\n",
       "<table border=\"1\" class=\"dataframe\">\n",
       "  <thead>\n",
       "    <tr style=\"text-align: right;\">\n",
       "      <th></th>\n",
       "      <th>Survived</th>\n",
       "      <th>Pclass</th>\n",
       "      <th>Age</th>\n",
       "    </tr>\n",
       "  </thead>\n",
       "  <tbody>\n",
       "    <tr>\n",
       "      <th>count</th>\n",
       "      <td>342.0</td>\n",
       "      <td>342.000000</td>\n",
       "      <td>290.000000</td>\n",
       "    </tr>\n",
       "    <tr>\n",
       "      <th>mean</th>\n",
       "      <td>1.0</td>\n",
       "      <td>1.950292</td>\n",
       "      <td>28.343690</td>\n",
       "    </tr>\n",
       "    <tr>\n",
       "      <th>std</th>\n",
       "      <td>0.0</td>\n",
       "      <td>0.863321</td>\n",
       "      <td>14.950952</td>\n",
       "    </tr>\n",
       "    <tr>\n",
       "      <th>min</th>\n",
       "      <td>1.0</td>\n",
       "      <td>1.000000</td>\n",
       "      <td>0.420000</td>\n",
       "    </tr>\n",
       "    <tr>\n",
       "      <th>25%</th>\n",
       "      <td>1.0</td>\n",
       "      <td>1.000000</td>\n",
       "      <td>19.000000</td>\n",
       "    </tr>\n",
       "    <tr>\n",
       "      <th>50%</th>\n",
       "      <td>1.0</td>\n",
       "      <td>2.000000</td>\n",
       "      <td>28.000000</td>\n",
       "    </tr>\n",
       "    <tr>\n",
       "      <th>75%</th>\n",
       "      <td>1.0</td>\n",
       "      <td>3.000000</td>\n",
       "      <td>36.000000</td>\n",
       "    </tr>\n",
       "    <tr>\n",
       "      <th>max</th>\n",
       "      <td>1.0</td>\n",
       "      <td>3.000000</td>\n",
       "      <td>80.000000</td>\n",
       "    </tr>\n",
       "  </tbody>\n",
       "</table>\n",
       "</div>"
      ],
      "text/plain": [
       "       Survived      Pclass         Age\n",
       "count     342.0  342.000000  290.000000\n",
       "mean        1.0    1.950292   28.343690\n",
       "std         0.0    0.863321   14.950952\n",
       "min         1.0    1.000000    0.420000\n",
       "25%         1.0    1.000000   19.000000\n",
       "50%         1.0    2.000000   28.000000\n",
       "75%         1.0    3.000000   36.000000\n",
       "max         1.0    3.000000   80.000000"
      ]
     },
     "metadata": {},
     "output_type": "display_data"
    }
   ],
   "source": [
    "# Calculate the number of survived passenger\n",
    "display(titanic_data[titanic_data['Survived'] == 1].describe())"
   ]
  },
  {
   "cell_type": "code",
   "execution_count": 286,
   "metadata": {},
   "outputs": [
    {
     "name": "stdout",
     "output_type": "stream",
     "text": [
      "<class 'pandas.core.frame.DataFrame'>\n",
      "RangeIndex: 891 entries, 0 to 890\n",
      "Data columns (total 4 columns):\n",
      "Survived    891 non-null int64\n",
      "Pclass      891 non-null int64\n",
      "Sex         891 non-null object\n",
      "Age         714 non-null float64\n",
      "dtypes: float64(1), int64(2), object(1)\n",
      "memory usage: 27.9+ KB\n"
     ]
    },
    {
     "data": {
      "text/plain": [
       "None"
      ]
     },
     "metadata": {},
     "output_type": "display_data"
    }
   ],
   "source": [
    "display(titanic_data.info())"
   ]
  },
  {
   "cell_type": "code",
   "execution_count": 287,
   "metadata": {},
   "outputs": [
    {
     "data": {
      "text/html": [
       "<div>\n",
       "<style>\n",
       "    .dataframe thead tr:only-child th {\n",
       "        text-align: right;\n",
       "    }\n",
       "\n",
       "    .dataframe thead th {\n",
       "        text-align: left;\n",
       "    }\n",
       "\n",
       "    .dataframe tbody tr th {\n",
       "        vertical-align: top;\n",
       "    }\n",
       "</style>\n",
       "<table border=\"1\" class=\"dataframe\">\n",
       "  <thead>\n",
       "    <tr style=\"text-align: right;\">\n",
       "      <th></th>\n",
       "      <th>Survived</th>\n",
       "      <th>Pclass</th>\n",
       "      <th>Sex</th>\n",
       "      <th>Age</th>\n",
       "    </tr>\n",
       "  </thead>\n",
       "  <tbody>\n",
       "    <tr>\n",
       "      <th>7</th>\n",
       "      <td>0</td>\n",
       "      <td>3</td>\n",
       "      <td>male</td>\n",
       "      <td>2.0</td>\n",
       "    </tr>\n",
       "    <tr>\n",
       "      <th>9</th>\n",
       "      <td>1</td>\n",
       "      <td>2</td>\n",
       "      <td>female</td>\n",
       "      <td>14.0</td>\n",
       "    </tr>\n",
       "    <tr>\n",
       "      <th>10</th>\n",
       "      <td>1</td>\n",
       "      <td>3</td>\n",
       "      <td>female</td>\n",
       "      <td>4.0</td>\n",
       "    </tr>\n",
       "    <tr>\n",
       "      <th>14</th>\n",
       "      <td>0</td>\n",
       "      <td>3</td>\n",
       "      <td>female</td>\n",
       "      <td>14.0</td>\n",
       "    </tr>\n",
       "    <tr>\n",
       "      <th>16</th>\n",
       "      <td>0</td>\n",
       "      <td>3</td>\n",
       "      <td>male</td>\n",
       "      <td>2.0</td>\n",
       "    </tr>\n",
       "  </tbody>\n",
       "</table>\n",
       "</div>"
      ],
      "text/plain": [
       "    Survived  Pclass     Sex   Age\n",
       "7          0       3    male   2.0\n",
       "9          1       2  female  14.0\n",
       "10         1       3  female   4.0\n",
       "14         0       3  female  14.0\n",
       "16         0       3    male   2.0"
      ]
     },
     "metadata": {},
     "output_type": "display_data"
    }
   ],
   "source": [
    "display(titanic_data[titanic_data['Age'] < 18].head())"
   ]
  },
  {
   "cell_type": "code",
   "execution_count": 288,
   "metadata": {},
   "outputs": [],
   "source": [
    " # Function return the numbers of passengers: survived and dead\n",
    "def passengers_survived():\n",
    "    passengers_survived = titanic_data['Survived'].value_counts()\n",
    "    # Plot: Number of survived and dead of passengers.\n",
    "    plot = sns.factorplot(x='Survived', data=titanic_data, kind='count')\n",
    "    plot.set_ylabels(\"population of passengers\")\n",
    "    return 'Passengers survived: %s, Passengers dead: %s.'%(passengers_survived[1], passengers_survived[0])"
   ]
  },
  {
   "cell_type": "code",
   "execution_count": 327,
   "metadata": {},
   "outputs": [
    {
     "data": {
      "text/plain": [
       "'Passengers survived: 342, Passengers dead: 549.'"
      ]
     },
     "metadata": {},
     "output_type": "display_data"
    },
    {
     "data": {
      "image/png": "[encoded data removed]",
      "text/plain": [
       "<matplotlib.figure.Figure at 0x1a29bb8cc0>"
      ]
     },
     "metadata": {},
     "output_type": "display_data"
    }
   ],
   "source": [
    "display(passengers_survived())"
   ]
  },
  {
   "cell_type": "markdown",
   "metadata": {},
   "source": [
    "Looking at survived can see: Female have more chance to survive than males on board."
   ]
  },
  {
   "cell_type": "markdown",
   "metadata": {},
   "source": [
    "# Probability of survival by class and gender. Consider this two factors effecting the survivalbility, so we need to analysis about class, gender and the relation of them.\n",
    "We need to make clear:\n",
    "  - The number of passengers in each class?\n",
    "  - The number of passengers by gender?\n",
    "  - Gender of passengers in each class?\n",
    "  - The number of passengers survived by class?\n",
    "  - The number of passengers survivived by gender?\n",
    "  - The survivalbility of passengers by gender?\n",
    "  - Compare number of passengers survived in each class by gender.\n",
    "  - Survival rate of passengers by gender and class?\n"
   ]
  },
  {
   "cell_type": "code",
   "execution_count": 328,
   "metadata": {
    "collapsed": true
   },
   "outputs": [],
   "source": [
    "# Function return gender of passengers: number of males and females passenger\n",
    "def passengers_gender():\n",
    "    menData = titanic_data[titanic_data.Sex == 'male']\n",
    "    womenData = titanic_data[titanic_data.Sex == 'female']\n",
    "    # Plot: Number of males and females of passengers.\n",
    "    plot = sns.factorplot('Sex', data=titanic_data, kind='count')\n",
    "    plot.despine(left=True)\n",
    "    plot.set_ylabels(\"population of passengers\")\n",
    "    return 'Males: %s, Females: %s'%(menData.count()['Sex'], womenData.count()['Sex'])"
   ]
  },
  {
   "cell_type": "code",
   "execution_count": 329,
   "metadata": {},
   "outputs": [
    {
     "data": {
      "text/plain": [
       "'Males: 577, Females: 314'"
      ]
     },
     "metadata": {},
     "output_type": "display_data"
    },
    {
     "data": {
      "image/png": "[encoded data removed]",
      "text/plain": [
       "<matplotlib.figure.Figure at 0x1a29bd0ef0>"
      ]
     },
     "metadata": {},
     "output_type": "display_data"
    }
   ],
   "source": [
    "display(passengers_gender())"
   ]
  },
  {
   "cell_type": "markdown",
   "metadata": {},
   "source": [
    "Looking at the population of each gender can see: that there are a larger number of males on board\n",
    "than females."
   ]
  },
  {
   "cell_type": "code",
   "execution_count": 330,
   "metadata": {
    "collapsed": true
   },
   "outputs": [],
   "source": [
    "# Function return sex of passengers: male or female\n",
    "def survived_by_gender():\n",
    "    # Plot: Passengers survived by gender\n",
    "    sns.set(style=\"darkgrid\")\n",
    "    plot = sns.barplot(data = titanic_data, x=\"Sex\", y=\"Survived\", palette=\"GnBu_d\")\n",
    "    return plot"
   ]
  },
  {
   "cell_type": "code",
   "execution_count": 331,
   "metadata": {},
   "outputs": [
    {
     "data": {
      "text/plain": [
       "<matplotlib.axes._subplots.AxesSubplot at 0x1a29da8dd8>"
      ]
     },
     "metadata": {},
     "output_type": "display_data"
    },
    {
     "data": {
      "image/png": "[encoded data removed]",
      "text/plain": [
       "<matplotlib.figure.Figure at 0x1a29d16da0>"
      ]
     },
     "metadata": {},
     "output_type": "display_data"
    }
   ],
   "source": [
    "display(survived_by_gender())"
   ]
  },
  {
   "cell_type": "markdown",
   "metadata": {},
   "source": [
    "Looing at the each gender can see: Females survived have more chance to survive than males."
   ]
  },
  {
   "cell_type": "code",
   "execution_count": 332,
   "metadata": {
    "collapsed": true
   },
   "outputs": [],
   "source": [
    "# Function return the number of passengers survived by gender and survivalbility of passgensers by percentage.\n",
    "def survivalbility():\n",
    "    menData = titanic_data[titanic_data.Sex == 'male']\n",
    "    womenData = titanic_data[titanic_data.Sex == 'female']\n",
    "    women_survived = titanic_data[titanic_data['Survived'] == True]['Sex'] == 'female'\n",
    "    men_survived = titanic_data[titanic_data['Survived'] == True]['Sex'] == 'male'\n",
    "    number_women_survived = women_survived[titanic_data['Sex'] == 'female'].sum()\n",
    "    number_men_survived = men_survived[titanic_data['Sex'] == 'male'].sum()\n",
    "    men_survivalbility = number_men_survived/menData.count()['Sex'] * 100\n",
    "    women_survivalbility = number_women_survived/womenData.count()['Sex'] * 100\n",
    "    \n",
    "    # Plot: Number of passengers survived and dead\n",
    "    survived_plot = sns.factorplot('Survived', data=titanic_data, kind='count')\n",
    "    survived_plot.despine(left=True)\n",
    "    survived_plot.set_ylabels(\"population of passengers\")\n",
    "    \n",
    "    # Plot: Number of passengers survived by gender\n",
    "    survived_gender = sns.factorplot(\"Sex\", \"Survived\", data=titanic_data, kind=\"bar\", size=5)\n",
    "    survived_gender.despine(left=True)\n",
    "    survived_gender.set_ylabels(\"passengers survived\")\n",
    "    return 'Men survived: %s, women survived: %s. Men survivalbility: %s%%, Women survivalbility: %s%%'%(number_men_survived, number_women_survived, men_survivalbility, women_survivalbility)"
   ]
  },
  {
   "cell_type": "code",
   "execution_count": 333,
   "metadata": {},
   "outputs": [
    {
     "data": {
      "text/plain": [
       "'Men survived: 109, women survived: 233. Men survivalbility: 18.8908145581%, Women survivalbility: 74.2038216561%'"
      ]
     },
     "metadata": {},
     "output_type": "display_data"
    },
    {
     "data": {
      "image/png": "[encoded data removed]",
      "text/plain": [
       "<matplotlib.figure.Figure at 0x1a29dc1828>"
      ]
     },
     "metadata": {},
     "output_type": "display_data"
    },
    {
     "data": {
      "image/png": "[encoded data removed]",
      "text/plain": [
       "<matplotlib.figure.Figure at 0x1a29f7c6d8>"
      ]
     },
     "metadata": {},
     "output_type": "display_data"
    }
   ],
   "source": [
    "display(survivalbility())"
   ]
  },
  {
   "cell_type": "markdown",
   "metadata": {},
   "source": [
    "Looking at the each gender and survived: Comparing the survivability of the genders we see a significant survivalbility difference, about 74% of female passengers survived and only about 19% males passenger survived."
   ]
  },
  {
   "cell_type": "code",
   "execution_count": 334,
   "metadata": {
    "collapsed": true
   },
   "outputs": [],
   "source": [
    "# Function return passenger class: 1st, 2nd, 3rd\n",
    "def number_passengers_in_class():\n",
    "    data = titanic_data['Pclass'].value_counts()\n",
    "    sns.set(style=\"darkgrid\")\n",
    "    # Plot: Number of passengers in each class\n",
    "    plot = sns.factorplot(x='Pclass', data=titanic_data, kind='count')\n",
    "    plot.set_ylabels(\"population of pasengers\")\n",
    "    return 'Passengers class: 1st: %s, 2nd: %s, 3rd: %s.' %(data[1], data[2], data[3])"
   ]
  },
  {
   "cell_type": "code",
   "execution_count": 297,
   "metadata": {},
   "outputs": [
    {
     "data": {
      "text/plain": [
       "'Passengers class: 1st: 216, 2nd: 184, 3rd: 491.'"
      ]
     },
     "metadata": {},
     "output_type": "display_data"
    },
    {
     "data": {
      "image/png": "[encoded data removed]",
      "text/plain": [
       "<matplotlib.figure.Figure at 0x1a1c3fab00>"
      ]
     },
     "metadata": {},
     "output_type": "display_data"
    }
   ],
   "source": [
    "display(number_passengers_in_class())"
   ]
  },
  {
   "cell_type": "markdown",
   "metadata": {},
   "source": [
    "Looking at class and population of passenger: Seeing the data we see that the majority of males onboard are on the 3rd Pclass, while females aremajorly distributed relatively equally among the 3 Pclasses."
   ]
  },
  {
   "cell_type": "code",
   "execution_count": 335,
   "metadata": {
    "collapsed": true
   },
   "outputs": [],
   "source": [
    "# Function return gender of passengers by class\n",
    "def gender_passenger_by_class():\n",
    "    class1_data = titanic_data[titanic_data.Pclass == 1]\n",
    "    class2_data = titanic_data[titanic_data.Pclass == 2]\n",
    "    class3_data = titanic_data[titanic_data.Pclass == 3]\n",
    "    sum_class1 = class1_data.count()['Pclass']\n",
    "    sum_class2 = class2_data.count()['Pclass']\n",
    "    sum_class3 = class3_data.count()['Pclass']\n",
    "    # Plot: Number of passengers in each class by gender\n",
    "    plot = sns.factorplot('Pclass',order=[1,2,3], data=titanic_data, hue='Sex',kind='count')\n",
    "    plot.despine(left=True)\n",
    "    plot.set_ylabels(\"population of passengers\")\n",
    "    return plot"
   ]
  },
  {
   "cell_type": "code",
   "execution_count": 299,
   "metadata": {},
   "outputs": [
    {
     "data": {
      "text/plain": [
       "<seaborn.axisgrid.FacetGrid at 0x1a1cc25828>"
      ]
     },
     "execution_count": 299,
     "metadata": {},
     "output_type": "execute_result"
    },
    {
     "data": {
      "image/png": "[encoded data removed]",
      "text/plain": [
       "<matplotlib.figure.Figure at 0x1a1c629898>"
      ]
     },
     "metadata": {},
     "output_type": "display_data"
    }
   ],
   "source": [
    "gender_passenger_by_class()"
   ]
  },
  {
   "cell_type": "markdown",
   "metadata": {},
   "source": [
    "Looking at the plot can see: Number of passengers in class 3 is higher. Males is more than females in all class."
   ]
  },
  {
   "cell_type": "code",
   "execution_count": 336,
   "metadata": {
    "collapsed": true
   },
   "outputs": [],
   "source": [
    "# Function compare the number of passenger survived by class and gender\n",
    "def compare_survived_by_class_gender():\n",
    "    # Plot: Compare number of passengers survived in each class by gender\n",
    "    sns.set(style=\"darkgrid\")\n",
    "    plot = sns.barplot(data = titanic_data, x=\"Sex\", y=\"Survived\", hue ='Pclass', palette=\"GnBu_d\")\n",
    "    return plot"
   ]
  },
  {
   "cell_type": "code",
   "execution_count": 337,
   "metadata": {},
   "outputs": [
    {
     "data": {
      "text/plain": [
       "<matplotlib.axes._subplots.AxesSubplot at 0x1a29f588d0>"
      ]
     },
     "metadata": {},
     "output_type": "display_data"
    },
    {
     "data": {
      "image/png": "[encoded data removed]",
      "text/plain": [
       "<matplotlib.figure.Figure at 0x1a29ed4f98>"
      ]
     },
     "metadata": {},
     "output_type": "display_data"
    }
   ],
   "source": [
    "display(compare_survived_by_class_gender())"
   ]
  },
  {
   "cell_type": "markdown",
   "metadata": {},
   "source": [
    "Looking at the plot can be see: Number of passengers survived deacrease by class. Males and females in class 1 have more chance to survive than females in males, females in class 2 and class 3. "
   ]
  },
  {
   "cell_type": "code",
   "execution_count": 338,
   "metadata": {
    "collapsed": true
   },
   "outputs": [],
   "source": [
    "# Returns survival rate of sex and class\n",
    "CLASS_1 = 1\n",
    "CLASS_2 = 2\n",
    "CLASS_3 = 3\n",
    "def survival_rate(pclass, sex):\n",
    "    grouped_by_class_sex = titanic_data.groupby(['Pclass', 'Sex']).size()[pclass,sex].astype('float')\n",
    "    grouped_by_survived_sex = titanic_data.groupby(['Pclass','Survived','Sex']).size()[pclass,1,sex].astype('float')\n",
    "    survived_class_sex = (grouped_by_survived_sex / grouped_by_class_sex * 100).round(2)\n",
    "    return 'Class %s, %s survival rate: %s%%' %(pclass, sex, survived_class_sex)"
   ]
  },
  {
   "cell_type": "code",
   "execution_count": 339,
   "metadata": {
    "collapsed": true
   },
   "outputs": [],
   "source": [
    "def get_data_group():\n",
    "    # Plot: Compare number of passengers survived in each class by gender\n",
    "    sns.factorplot(\"Pclass\", \"Survived\", hue='Sex',order=[1,2,3], data=titanic_data, kind='point')\n",
    "    plot.set_ylabels(\"passengers survived\")\n",
    "    return titanic_data.groupby(['Pclass','Survived','Sex']).size()"
   ]
  },
  {
   "cell_type": "code",
   "execution_count": 304,
   "metadata": {},
   "outputs": [
    {
     "data": {
      "text/plain": [
       "Pclass  Survived  Sex   \n",
       "1       0         female      3\n",
       "                  male       77\n",
       "        1         female     91\n",
       "                  male       45\n",
       "2       0         female      6\n",
       "                  male       91\n",
       "        1         female     70\n",
       "                  male       17\n",
       "3       0         female     72\n",
       "                  male      300\n",
       "        1         female     72\n",
       "                  male       47\n",
       "dtype: int64"
      ]
     },
     "metadata": {},
     "output_type": "display_data"
    },
    {
     "data": {
      "image/png": "[encoded data removed]",
      "text/plain": [
       "<matplotlib.figure.Figure at 0x1a1d270240>"
      ]
     },
     "metadata": {},
     "output_type": "display_data"
    }
   ],
   "source": [
    "display(get_data_group())"
   ]
  },
  {
   "cell_type": "markdown",
   "metadata": {},
   "source": [
    "Survival rate decrease by class 1 -> class 2 -> class 3 in males group and females group passengers.."
   ]
  },
  {
   "cell_type": "code",
   "execution_count": 340,
   "metadata": {},
   "outputs": [
    {
     "data": {
      "text/plain": [
       "'Class 1, female survival rate: 96.81%'"
      ]
     },
     "metadata": {},
     "output_type": "display_data"
    },
    {
     "data": {
      "text/plain": [
       "'Class 2, female survival rate: 92.11%'"
      ]
     },
     "metadata": {},
     "output_type": "display_data"
    },
    {
     "data": {
      "text/plain": [
       "'Class 3, female survival rate: 50.0%'"
      ]
     },
     "metadata": {},
     "output_type": "display_data"
    },
    {
     "data": {
      "text/plain": [
       "'Class 1, male survival rate: 36.89%'"
      ]
     },
     "metadata": {},
     "output_type": "display_data"
    },
    {
     "data": {
      "text/plain": [
       "'Class 2, male survival rate: 15.74%'"
      ]
     },
     "metadata": {},
     "output_type": "display_data"
    },
    {
     "data": {
      "text/plain": [
       "'Class 3, male survival rate: 13.54%'"
      ]
     },
     "metadata": {},
     "output_type": "display_data"
    }
   ],
   "source": [
    "# Display survival_rate of passenger in each class by gender\n",
    "display(survival_rate(CLASS_1, 'female'))\n",
    "display(survival_rate(CLASS_2, 'female'))\n",
    "display(survival_rate(CLASS_3, 'female'))\n",
    "display(survival_rate(CLASS_1, 'male'))\n",
    "display(survival_rate(CLASS_2, 'male'))\n",
    "display(survival_rate(CLASS_3, 'male'))"
   ]
  },
  {
   "cell_type": "code",
   "execution_count": 341,
   "metadata": {
    "collapsed": true
   },
   "outputs": [],
   "source": [
    "# Plot: Grouped by class, survival and sex\n",
    "def grouped_by_class_survival_sex():\n",
    "    # Plot: Compare number of passengers survived in each class by gender and class\n",
    "    plot = sns.factorplot(x=\"Sex\", y=\"Survived\", col=\"Pclass\", data=titanic_data, saturation=.5, kind=\"bar\", ci=None, size=5, aspect=.8)\n",
    "    plot.set_ylabels(\"passengers survived\")\n",
    "    return plot"
   ]
  },
  {
   "cell_type": "code",
   "execution_count": 342,
   "metadata": {},
   "outputs": [
    {
     "data": {
      "text/plain": [
       "<seaborn.axisgrid.FacetGrid at 0x1a2a11add8>"
      ]
     },
     "execution_count": 342,
     "metadata": {},
     "output_type": "execute_result"
    },
    {
     "data": {
      "image/png": "[encoded data removed]",
      "text/plain": [
       "<matplotlib.figure.Figure at 0x1a2a11a470>"
      ]
     },
     "metadata": {},
     "output_type": "display_data"
    }
   ],
   "source": [
    "grouped_by_class_survival_sex()"
   ]
  },
  {
   "cell_type": "markdown",
   "metadata": {},
   "source": [
    "Looking at the plot can see: Females in class 1 have more chance to survive in class 2 and class 3. Males in class 1 and more chance to survive than males in class 2 and class 3. Females in class 1 survived is higher, males in class 3 dead is higher."
   ]
  },
  {
   "cell_type": "code",
   "execution_count": 343,
   "metadata": {
    "collapsed": true
   },
   "outputs": [],
   "source": [
    "# Plot: Number of passengers by survival, group and sex\n",
    "def number_passengers_by_survival_group_sex():\n",
    "    # Plot: Compare number of passengers survived in each class by gender\n",
    "    plot = sns.factorplot('Survived', col='Sex', hue='Pclass', data=titanic_data, kind='count', size=7, aspect=.8)\n",
    "    plot.set_ylabels(\"population of passengers\")\n",
    "    return plot"
   ]
  },
  {
   "cell_type": "code",
   "execution_count": 309,
   "metadata": {},
   "outputs": [
    {
     "data": {
      "text/plain": [
       "<seaborn.axisgrid.FacetGrid at 0x1a290b0f98>"
      ]
     },
     "execution_count": 309,
     "metadata": {},
     "output_type": "execute_result"
    },
    {
     "data": {
      "image/png": "[encoded data removed]",
      "text/plain": [
       "<matplotlib.figure.Figure at 0x1a1c9c2978>"
      ]
     },
     "metadata": {},
     "output_type": "display_data"
    }
   ],
   "source": [
    "number_passengers_by_survival_group_sex()"
   ]
  },
  {
   "cell_type": "markdown",
   "metadata": {},
   "source": [
    "Looking at the plot can see: Number of females survived in class 1 is higher. Number of males and females in class 3 dead is higher. \n",
    "- Class 1: \n",
    "    - Males: survived: medium, dead: lower\n",
    "    - Females: survived: higher, dead: lower\n",
    "- Class 2: \n",
    "    - Males: survived: lower, dead: medium\n",
    "    - Females: survived: medium, dead: middle\n",
    "- Class 3:\n",
    "    - Male: survived: higher, dead: higher\n",
    "    - Females: survived: medium, dead: higher\n"
   ]
  },
  {
   "cell_type": "markdown",
   "metadata": {},
   "source": [
    "#  Age of passengers can be effectively survivalbility too. I need to analysis about factor age.\n",
    "- I need to make clear:\n",
    "    - How many passengers missing imfomation about age?\n",
    "    - Distribution survival by age?\n",
    "    - How many chidren under 18 years old survive and dead on board?\n",
    "    - How many baby under 1 year old survived and dead on board?\n",
    "    - The youngest, oldest and average age of passengers on board.\n",
    "    - The youngest and oldest passenger to survive and dead?\n",
    "    - The age of survived passengers by class and gender?"
   ]
  },
  {
   "cell_type": "code",
   "execution_count": 344,
   "metadata": {
    "collapsed": true
   },
   "outputs": [],
   "source": [
    "# So filter age records is null, return the number passengers missing age imformation\n",
    "def age_missing(): \n",
    "    age_record_null = pd.isnull(titanic_data['Age']) \n",
    "    total_passengers_missing_age = age_record_null.sum() \n",
    "    missing_age_female = titanic_data[age_record_null]['Sex'] == 'female' \n",
    "    missing_age_male = titanic_data[age_record_null]['Sex'] == 'male' \n",
    "    return 'Passengers age missing: %s(males: %s, females: %s)'%(total_passengers_missing_age, missing_age_male.sum(), missing_age_female.sum())"
   ]
  },
  {
   "cell_type": "code",
   "execution_count": 345,
   "metadata": {},
   "outputs": [
    {
     "data": {
      "text/plain": [
       "'Passengers age missing: 177(males: 124, females: 53)'"
      ]
     },
     "metadata": {},
     "output_type": "display_data"
    }
   ],
   "source": [
    "display(age_missing())"
   ]
  },
  {
   "cell_type": "code",
   "execution_count": 346,
   "metadata": {
    "collapsed": true
   },
   "outputs": [],
   "source": [
    "# Return distribution of age passenger by survived\n",
    "def age_distribution_by_survival():\n",
    "    # Plot: Distribution of age passenger by survived\n",
    "    plot = sns.boxplot(data=titanic_data, x='Survived', y='Age')\n",
    "    plot.set(title='Age Distribution by Survival',xlabel = 'Survival',ylabel = 'Age Distrobution',xticklabels = ['Died', 'Survived'])\n",
    "    return plot"
   ]
  },
  {
   "cell_type": "code",
   "execution_count": 347,
   "metadata": {},
   "outputs": [
    {
     "data": {
      "text/plain": [
       "<matplotlib.axes._subplots.AxesSubplot at 0x1a29c7d630>"
      ]
     },
     "execution_count": 347,
     "metadata": {},
     "output_type": "execute_result"
    },
    {
     "data": {
      "image/png": "[encoded data removed]",
      "text/plain": [
       "<matplotlib.figure.Figure at 0x1a28f8f9e8>"
      ]
     },
     "metadata": {},
     "output_type": "display_data"
    }
   ],
   "source": [
    "age_distribution_by_survival()"
   ]
  },
  {
   "cell_type": "markdown",
   "metadata": {},
   "source": [
    "The same between dead age group and the survived age groups. But younger passengers have more chance to survive than older passengers."
   ]
  },
  {
   "cell_type": "code",
   "execution_count": 348,
   "metadata": {},
   "outputs": [
    {
     "data": {
      "text/plain": [
       "<seaborn.axisgrid.FacetGrid at 0x1a29ec7828>"
      ]
     },
     "execution_count": 348,
     "metadata": {},
     "output_type": "execute_result"
    },
    {
     "data": {
      "image/png": "[encoded data removed]",
      "text/plain": [
       "<matplotlib.figure.Figure at 0x1a1cda1080>"
      ]
     },
     "metadata": {},
     "output_type": "display_data"
    }
   ],
   "source": [
    "# Return status of passengers\n",
    "def childrenOrAdult(passenger):\n",
    "     age, sex = passenger\n",
    "     if age < 18:\n",
    "         return 'child'\n",
    "     else:\n",
    "         return sex\n",
    "titanic_data['PassengerStatus'] = titanic_data[['Age', 'Sex']].apply(childrenOrAdult, axis=1)\n",
    "titanic_data['PassengerStatus'].value_counts()\n",
    "# Plot: Passenger status: child, male or female in each class\n",
    "plot = sns.factorplot('Pclass', order=[1,2,3], data=titanic_data, hue='PassengerStatus', kind='count', hue_order=['child','male','female'])\n",
    "plot.despine(left=True)\n",
    "plot.set_ylabels(\"population of passengers\")"
   ]
  },
  {
   "cell_type": "markdown",
   "metadata": {},
   "source": [
    "- Class 1: Children is lower, male is medium, female is medium\n",
    "- Class 2: Children is medium, male is medium, female is lower\n",
    "- Class 3: Chidren is higher, male is higher, female is higher\n",
    "- Adult males are the majority in every Pclass, \n",
    "- Females are satisfactory way equally distributed among the 3 classes.\n",
    "- Children were mainly in the class 3."
   ]
  },
  {
   "cell_type": "code",
   "execution_count": 349,
   "metadata": {
    "collapsed": true
   },
   "outputs": [],
   "source": [
    "# Return passengers under 18 years old survived and survival probability\n",
    "def passengers_under_18_survived():\n",
    "    less_than_18 = titanic_data[titanic_data['Age'] < 18]\n",
    "    children = (less_than_18['Age'] < 18).sum()\n",
    "    less_than_one = titanic_data[titanic_data['Age'] < 18]\n",
    "    baby = (less_than_one['Age'] < 1).sum()\n",
    "    children_under_18_survived = (titanic_data[titanic_data['Survived'] == True]['Age'] < 18).sum()\n",
    "    baby_under_1_survived = (titanic_data[titanic_data['Survived'] == True]['Age'] < 1).sum()\n",
    "    survival_probability = children_under_18_survived/children * 100\n",
    "    return 'Passengers under 18 years old: %s(including %s baby under 1 year old), survived: %s (including %s baby under 1 year old. Survival probability is: %s%%)'%(children, baby, children_under_18_survived, baby_under_1_survived, survival_probability)"
   ]
  },
  {
   "cell_type": "code",
   "execution_count": 350,
   "metadata": {},
   "outputs": [
    {
     "data": {
      "text/plain": [
       "'Passengers under 18 years old: 113(including 7 baby under 1 year old), survived: 61 (including 7 baby under 1 year old. Survival probability is: 53.982300885%)'"
      ]
     },
     "metadata": {},
     "output_type": "display_data"
    }
   ],
   "source": [
    "display(passengers_under_18_survived())"
   ]
  },
  {
   "cell_type": "code",
   "execution_count": 352,
   "metadata": {
    "collapsed": true
   },
   "outputs": [],
   "source": [
    "# Return youngest and oldest passengers, average old of passengers\n",
    "def yougest_oldest_passengers():\n",
    "    youngestPassenger = titanic_data['Age'].min()\n",
    "    oldestPassenger = titanic_data['Age'].max()\n",
    "    avgPassenger = titanic_data['Age'].mean()\n",
    "    return 'Youngest passenger: %s, Oldest passenger: %s, Average passenger: %s' %(youngestPassenger, oldestPassenger,avgPassenger )"
   ]
  },
  {
   "cell_type": "code",
   "execution_count": 353,
   "metadata": {},
   "outputs": [
    {
     "data": {
      "text/plain": [
       "'Youngest passenger: 0.42, Oldest passenger: 80.0, Average passenger: 29.6991176471'"
      ]
     },
     "metadata": {},
     "output_type": "display_data"
    }
   ],
   "source": [
    "display(yougest_oldest_passengers())"
   ]
  },
  {
   "cell_type": "code",
   "execution_count": 355,
   "metadata": {
    "collapsed": true
   },
   "outputs": [],
   "source": [
    "# Return youngest passengers to survived and dead\n",
    "def youngest_survived_and_dead():\n",
    "    youngest_survived = titanic_data[titanic_data['Survived'] == True]['Age'].min()\n",
    "    youngest_die = titanic_data[titanic_data['Survived'] == False]['Age'].min()\n",
    "    return 'Youngest to survived: %s year old, Youngest to die: %s year old' %(youngest_survived, youngest_die)"
   ]
  },
  {
   "cell_type": "code",
   "execution_count": 356,
   "metadata": {},
   "outputs": [
    {
     "data": {
      "text/plain": [
       "'Youngest to survived: 0.42 year old, Youngest to die: 1.0 year old'"
      ]
     },
     "metadata": {},
     "output_type": "display_data"
    }
   ],
   "source": [
    "display(youngest_survived_and_dead())"
   ]
  },
  {
   "cell_type": "code",
   "execution_count": 357,
   "metadata": {
    "collapsed": true
   },
   "outputs": [],
   "source": [
    "# Return oldest passengers to survived and dead\n",
    "def oldest_survived_and_dead():\n",
    "    oldest_survived = titanic_data[titanic_data['Survived'] == True]['Age'].max()\n",
    "    oldest_die = titanic_data[titanic_data['Survived'] == False]['Age'].max()\n",
    "    return 'Oldest to survive: %s years old, Oldest to die: %s years old' %(oldest_survived, oldest_die)"
   ]
  },
  {
   "cell_type": "code",
   "execution_count": 358,
   "metadata": {},
   "outputs": [
    {
     "data": {
      "text/plain": [
       "'Oldest to survive: 80.0 years old, Oldest to die: 74.0 years old'"
      ]
     },
     "metadata": {},
     "output_type": "display_data"
    }
   ],
   "source": [
    "display(oldest_survived_and_dead())"
   ]
  },
  {
   "cell_type": "code",
   "execution_count": 359,
   "metadata": {
    "collapsed": true
   },
   "outputs": [],
   "source": [
    "# Plot: Age survived by class\n",
    "def age_by_class_survival():\n",
    "    # Plot: Distribution passengers age by class and survived\n",
    "    plot = sns.boxplot(data = titanic_data.dropna(subset = ['Age']).sort_values('Pclass'), x='Pclass', y='Age', hue='Survived')\n",
    "    plot.set(title='Age by Class and Survival - Box Plot', xlabel='Pclass')\n",
    "    plot.legend(bbox_to_anchor=(1.05, .7), loc=2, title = 'Survived',borderaxespad=0.)\n",
    "    return plot"
   ]
  },
  {
   "cell_type": "code",
   "execution_count": 360,
   "metadata": {},
   "outputs": [
    {
     "data": {
      "text/plain": [
       "<matplotlib.axes._subplots.AxesSubplot at 0x1a1c059518>"
      ]
     },
     "execution_count": 360,
     "metadata": {},
     "output_type": "execute_result"
    },
    {
     "data": {
      "image/png": "[encoded data removed]",
      "text/plain": [
       "<matplotlib.figure.Figure at 0x1a29d1fcc0>"
      ]
     },
     "metadata": {},
     "output_type": "display_data"
    }
   ],
   "source": [
    "age_by_class_survival()"
   ]
  },
  {
   "cell_type": "markdown",
   "metadata": {},
   "source": [
    "Looking at each class we can see: younger passengers more chance to survive than older aged passengers on every class."
   ]
  },
  {
   "cell_type": "code",
   "execution_count": 361,
   "metadata": {
    "collapsed": true
   },
   "outputs": [],
   "source": [
    "# Plot: Survived age by gender \n",
    "def age_by_gender_survival():\n",
    "    # Plot: Distribution passengers age by gender and survived\n",
    "    plot = sns.boxplot(data=titanic_data.dropna(subset = ['Age']), x= 'Sex', y= 'Age', hue='Survived')\n",
    "    plot.set(title='Age by Gender and Survival')\n",
    "    plot.legend(bbox_to_anchor=(1.05, .7), loc=2, title = 'Survived(0 = \"Dead\", 1 = \"Survived\")',borderaxespad=0.)\n",
    "    return plot"
   ]
  },
  {
   "cell_type": "code",
   "execution_count": 362,
   "metadata": {},
   "outputs": [
    {
     "data": {
      "text/plain": [
       "<matplotlib.axes._subplots.AxesSubplot at 0x1a1b70ce48>"
      ]
     },
     "execution_count": 362,
     "metadata": {},
     "output_type": "execute_result"
    },
    {
     "data": {
      "image/png": "[encoded data removed]",
      "text/plain": [
       "<matplotlib.figure.Figure at 0x1a1cf6e198>"
      ]
     },
     "metadata": {},
     "output_type": "display_data"
    }
   ],
   "source": [
    "age_by_gender_survival()"
   ]
  },
  {
   "cell_type": "markdown",
   "metadata": {},
   "source": [
    "- Looking at the plot we see comparing between the genders :  males older survived lower than younger males. \n",
    "- Females older survived more than younger females."
   ]
  },
  {
   "cell_type": "markdown",
   "metadata": {},
   "source": [
    "# Conclusion:\n",
    "\n",
    "1. About missing data in the Age column: \n",
    "     - Looking at Age column can be see: 714/891 elements not null. So we have 177 passengers that are not accounted that could affect the graphs that were created age distribution such as \"Distribution of age in passengers\".\n",
    "     - In the graph \"Age survived by class\" and \"Age survived by gender\" can be affected by 177 ages null elements that wasn't in the data: 177 passengers can be younger or older ages than what was determined when calculating the 714 ages that existed in the age column. \n",
    "2. Age effect of survivability \n",
    "     - Age can very well effect a chance of survivability, younger ages have more chance to survive than passengers of older age. Children under 18 years old survived about above 50 percent, baby under 1 year old all survived.\n",
    "3. Gender and class effect of survivalbility\n",
    "    - Survival rate: about 74% females survived and 19% males survived. Number of females survived in class 1 is higher. Number of males and females in class 3 dead is higher.\n",
    "    - Survivalbility: Men survived: 109/577, women survived: 233/314.\n",
    "    - Therefor females have more chance to survive than males. Passengers in class 1 have more chance to survive than passengers in class 2 and class 3.\n",
    "=> Gender and class are the most factors effect to survivability of passengers on board.\n",
    "    "
   ]
  }
 ],
 "metadata": {
  "kernelspec": {
   "display_name": "Python 2",
   "language": "python",
   "name": "python2"
  },
  "language_info": {
   "codemirror_mode": {
    "name": "ipython",
    "version": 3
   },
   "file_extension": ".py",
   "mimetype": "text/x-python",
   "name": "python",
   "nbconvert_exporter": "python",
   "pygments_lexer": "ipython3",
   "version": "3.6.1"
  }
 },
 "nbformat": 4,
 "nbformat_minor": 2
}
